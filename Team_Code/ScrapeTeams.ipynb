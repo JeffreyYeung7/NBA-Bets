{
 "cells": [
  {
   "cell_type": "code",
   "execution_count": null,
   "metadata": {},
   "outputs": [],
   "source": [
    "# Imports\n",
    "from bs4 import BeautifulSoup\n",
    "import requests\n",
    "import numpy as np\n",
    "import csv"
   ]
  },
  {
   "cell_type": "code",
   "execution_count": null,
   "metadata": {},
   "outputs": [],
   "source": [
    "# Creating a dictionary of URLs for each year from 1988 to 2019 (31 years).\n",
    "baseURL_left = \"https://www.basketball-reference.com/leagues/NBA_\"\n",
    "baseURL_right = \".html\"\n",
    "URL = {}\n",
    "for year in range(1989, 2020):\n",
    "    URL[year] = baseURL_left + str(year) + baseURL_right"
   ]
  },
  {
   "cell_type": "code",
   "execution_count": null,
   "metadata": {},
   "outputs": [],
   "source": [
    "# Scraping data from the NBA database and creates a list\n",
    "# of lists of each team's win rate\n",
    "total_table = []\n",
    "for year in URL:\n",
    "    print(\"Getting stats from \" + str(year))\n",
    "    source = requests.get(URL[year]).text\n",
    "    soup = BeautifulSoup(source, 'lxml')\n",
    "    section = soup.findAll('div', {'class': 'standings_divs'})\n",
    "    table_year = []\n",
    "    for sec in section:\n",
    "        player_table = sec.findAll('table', {'class': 'stats_table'})\n",
    "        for Btable in player_table:\n",
    "            full_table = Btable.find('tbody').findAll('tr', {'class': 'full_table'})\n",
    "            for table in full_table:\n",
    "                team = table.find('th', {'data-stat': \"team_name\"})\n",
    "                team_name = team.find('a').get_text()\n",
    "                stats = table.findAll('td', {'class': 'right'})\n",
    "                wl_pct = table.find('td', {'data-stat': \"win_loss_pct\"}).get_text()\n",
    "                temp = [team_name, wl_pct]\n",
    "                table_year.append(temp)\n",
    "    total_table.append(table_year)\n",
    "    filename = \"TeamStats\" + str(year) + \".csv\"\n",
    "    with open(filename, \"w\") as csv:\n",
    "        for team in table_year:\n",
    "            csv.write(str(team[0]) + \",\" + str(team[1]))\n",
    "            csv.write(\"\\n\")\n",
    "print(total_table)\n",
    "print(\"Done\")"
   ]
  }
 ],
 "metadata": {
  "kernelspec": {
   "display_name": "Python 3",
   "language": "python",
   "name": "python3"
  },
  "language_info": {
   "codemirror_mode": {
    "name": "ipython",
    "version": 3
   },
   "file_extension": ".py",
   "mimetype": "text/x-python",
   "name": "python",
   "nbconvert_exporter": "python",
   "pygments_lexer": "ipython3",
   "version": "3.6.5"
  }
 },
 "nbformat": 4,
 "nbformat_minor": 2
}
